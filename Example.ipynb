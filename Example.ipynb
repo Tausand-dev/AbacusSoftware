{
 "cells": [
  {
   "cell_type": "markdown",
   "metadata": {},
   "source": [
    "# Reimagined Quantum"
   ]
  },
  {
   "cell_type": "code",
   "execution_count": 1,
   "metadata": {
    "collapsed": true
   },
   "outputs": [],
   "source": [
    "import numpy as np\n",
    "import matplotlib.pyplot as plt\n",
    "\n",
    "from reimaginedQuantum import *"
   ]
  },
  {
   "cell_type": "code",
   "execution_count": 2,
   "metadata": {
    "collapsed": false
   },
   "outputs": [
    {
     "name": "stdout",
     "output_type": "stream",
     "text": [
      "{'Numato Lab Mimas Spartan6 FPGA Development Board (/dev/ttyACM1)': '/dev/ttyACM1', 'FT232R USB UART (/dev/ttyUSB0)': '/dev/ttyUSB0'}\n"
     ]
    }
   ],
   "source": [
    "ports = findPort()\n",
    "print(ports)"
   ]
  },
  {
   "cell_type": "code",
   "execution_count": 3,
   "metadata": {
    "collapsed": false
   },
   "outputs": [],
   "source": [
    "port = CommunicationPort('/dev/ttyUSB0')\n",
    "number_detectors = 2\n",
    "exp = Experiment(port, number_detectors)"
   ]
  },
  {
   "cell_type": "code",
   "execution_count": 15,
   "metadata": {
    "collapsed": true
   },
   "outputs": [],
   "source": [
    "channels = []\n",
    "interval = 0.01\n",
    "number_points = 50\n",
    "exp.detectors[0].set_delay(20)"
   ]
  },
  {
   "cell_type": "code",
   "execution_count": 16,
   "metadata": {
    "collapsed": false
   },
   "outputs": [
    {
     "name": "stdout",
     "output_type": "stream",
     "text": [
      "0.0 [  500000.  2000000.] [ 987654.]\n",
      "0.144159555435 [  500000.  2000000.] [ 987654.]\n",
      "0.293647289276 [  500000.  2000000.] [ 987654.]\n",
      "0.439078569412 [  500000.  2000000.] [ 987654.]\n",
      "0.588130474091 [  500000.  2000000.] [ 987654.]\n",
      "0.734502792358 [  500000.  2000000.] [ 987654.]\n",
      "0.878387212753 [  500000.  2000000.] [ 987654.]\n",
      "1.02335429192 [  500000.  2000000.] [ 987654.]\n",
      "1.17038059235 [  500000.  2000000.] [ 987654.]\n",
      "1.32025074959 [  500000.  2000000.] [ 987654.]\n",
      "1.47027826309 [  500000.  2000000.] [ 987654.]\n",
      "1.61933755875 [  500000.  2000000.] [ 987654.]\n",
      "1.7688305378 [  500000.  2000000.] [ 987654.]\n",
      "1.92078256607 [  500000.  2000000.] [ 987654.]\n",
      "2.07138133049 [  500000.  2000000.] [ 987654.]\n",
      "2.22197508812 [  500000.  2000000.] [ 987654.]\n",
      "2.37036299706 [  500000.  2000000.] [ 987654.]\n",
      "2.51588153839 [  500000.  2000000.] [ 987654.]\n",
      "2.66704297066 [  500000.  2000000.] [ 987654.]\n",
      "2.81626701355 [  500000.  2000000.] [ 987654.]\n",
      "2.96663546562 [  500000.  2000000.] [ 987654.]\n",
      "3.11790418625 [  500000.  2000000.] [ 987654.]\n",
      "3.26999044418 [  500000.  2000000.] [ 987654.]\n",
      "3.42389893532 [  500000.  2000000.] [ 987654.]\n",
      "3.57398915291 [  500000.  2000000.] [ 987654.]\n",
      "3.72597384453 [  500000.  2000000.] [ 987654.]\n",
      "3.87788534164 [  500000.  2000000.] [ 987654.]\n",
      "4.02951717377 [  500000.  2000000.] [ 987654.]\n",
      "4.17710852623 [  500000.  2000000.] [ 987654.]\n",
      "4.3278195858 [  500000.  2000000.] [ 987654.]\n",
      "4.47890090942 [  500000.  2000000.] [ 987654.]\n",
      "4.62968206406 [  500000.  2000000.] [ 987654.]\n",
      "4.77817034721 [  500000.  2000000.] [ 987654.]\n",
      "4.92843747139 [  500000.  2000000.] [ 987654.]\n",
      "5.07868885994 [  500000.  2000000.] [ 987654.]\n",
      "5.2312669754 [  500000.  2000000.] [ 987654.]\n",
      "5.38090324402 [  500000.  2000000.] [ 987654.]\n",
      "5.52880525589 [  500000.  2000000.] [ 987654.]\n",
      "5.6782989502 [  500000.  2000000.] [ 987654.]\n",
      "5.8303258419 [  500000.  2000000.] [ 987654.]\n",
      "5.98052501678 [  500000.  2000000.] [ 987654.]\n",
      "6.1346540451 [  500000.  2000000.] [ 987654.]\n",
      "6.2842040062 [  500000.  2000000.] [ 987654.]\n",
      "6.42961120605 [  500000.  2000000.] [ 987654.]\n",
      "6.57958865166 [  500000.  2000000.] [ 987654.]\n",
      "6.73308134079 [  500000.  2000000.] [ 987654.]\n",
      "6.88371396065 [  500000.  2000000.] [ 987654.]\n",
      "7.03425621986 [  500000.  2000000.] [ 987654.]\n",
      "7.18516016006 [  500000.  2000000.] [ 987654.]\n",
      "7.33877515793 [  500000.  2000000.] [ 987654.]\n"
     ]
    }
   ],
   "source": [
    "time, detectors, coins = exp.measure_N_points(channels, interval,\n",
    "                                              number_points, print_ = True)"
   ]
  },
  {
   "cell_type": "code",
   "execution_count": 17,
   "metadata": {
    "collapsed": false
   },
   "outputs": [
    {
     "data": {
      "image/png": "[encoded data removed]",
      "text/plain": [
       "<matplotlib.figure.Figure at 0x7f14cd0d0358>"
      ]
     },
     "metadata": {},
     "output_type": "display_data"
    }
   ],
   "source": [
    "fig, axes = plt.subplots(2, sharex = True)\n",
    "\n",
    "# DETECTORS\n",
    "n = detectors.shape[1]\n",
    "if n == 1:\n",
    "    axes[0].plot(time, detectors, \"-o\", label = \"%s\"%exp.detectors[0].name)\n",
    "else:\n",
    "    for i in range(n):\n",
    "        axes[0].plot(time, detectors[:, i], \"-o\", label = \"%s\"%exp.detectors[i].name)\n",
    "\n",
    "# COINCIDENCES\n",
    "n = coins.shape[1]\n",
    "if n == 1:\n",
    "    axes[1].plot(time, coins, \"-o\", label = \"%s\"%exp.coin_channels[0].prefix)\n",
    "else:\n",
    "    for i in range(n):\n",
    "        axes[1].plot(time, detectors[:, i], \"-o\", label = \"%s\"%exp.coin_channels[i].prefix)\n",
    "for ax in axes:\n",
    "    ax.legend(loc = 2)\n",
    "    ax.set_ylabel(\"Counts\")\n",
    "\n",
    "plt.show()"
   ]
  },
  {
   "cell_type": "code",
   "execution_count": null,
   "metadata": {
    "collapsed": true
   },
   "outputs": [],
   "source": []
  }
 ],
 "metadata": {
  "anaconda-cloud": {},
  "kernelspec": {
   "display_name": "Python [conda root]",
   "language": "python",
   "name": "conda-root-py"
  },
  "language_info": {
   "codemirror_mode": {
    "name": "ipython",
    "version": 3
   },
   "file_extension": ".py",
   "mimetype": "text/x-python",
   "name": "python",
   "nbconvert_exporter": "python",
   "pygments_lexer": "ipython3",
   "version": "3.4.4"
  }
 },
 "nbformat": 4,
 "nbformat_minor": 2
}
